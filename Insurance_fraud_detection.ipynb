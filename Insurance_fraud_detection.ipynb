{
  "nbformat": 4,
  "nbformat_minor": 0,
  "metadata": {
    "colab": {
      "name": "Insurance_fraud_detection.ipynb",
      "provenance": [],
      "collapsed_sections": [],
      "include_colab_link": true
    },
    "kernelspec": {
      "name": "python3",
      "display_name": "Python 3"
    }
  },
  "cells": [
    {
      "cell_type": "markdown",
      "metadata": {
        "id": "view-in-github",
        "colab_type": "text"
      },
      "source": [
        "<a href=\"https://colab.research.google.com/github/subhanjan160901/Machine-Learning-Practicals/blob/master/Insurance_fraud_detection.ipynb\" target=\"_parent\"><img src=\"https://colab.research.google.com/assets/colab-badge.svg\" alt=\"Open In Colab\"/></a>"
      ]
    },
    {
      "cell_type": "code",
      "metadata": {
        "id": "p0dG9s5HJ3eK"
      },
      "source": [
        "import pandas as pd\r\n",
        "import seaborn as sns\r\n",
        "import matplotlib.pyplot as plt\r\n",
        "import numpy as np\r\n",
        "%matplotlib inline"
      ],
      "execution_count": 4,
      "outputs": []
    },
    {
      "cell_type": "code",
      "metadata": {
        "colab": {
          "base_uri": "https://localhost:8080/"
        },
        "id": "TAxrduBVJXz-",
        "outputId": "60feb242-9203-47ac-b02b-561923771ca6"
      },
      "source": [
        "!pip install imbalanced_learn"
      ],
      "execution_count": 5,
      "outputs": [
        {
          "output_type": "stream",
          "text": [
            "Requirement already satisfied: imbalanced_learn in /usr/local/lib/python3.7/dist-packages (0.4.3)\n",
            "Requirement already satisfied: numpy>=1.8.2 in /usr/local/lib/python3.7/dist-packages (from imbalanced_learn) (1.19.5)\n",
            "Requirement already satisfied: scikit-learn>=0.20 in /usr/local/lib/python3.7/dist-packages (from imbalanced_learn) (0.22.2.post1)\n",
            "Requirement already satisfied: scipy>=0.13.3 in /usr/local/lib/python3.7/dist-packages (from imbalanced_learn) (1.4.1)\n",
            "Requirement already satisfied: joblib>=0.11 in /usr/local/lib/python3.7/dist-packages (from scikit-learn>=0.20->imbalanced_learn) (1.0.1)\n"
          ],
          "name": "stdout"
        }
      ]
    },
    {
      "cell_type": "code",
      "metadata": {
        "colab": {
          "resources": {
            "http://localhost:8080/nbextensions/google.colab/files.js": {
              "data": "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",
              "ok": true,
              "headers": [
                [
                  "content-type",
                  "application/javascript"
                ]
              ],
              "status": 200,
              "status_text": ""
            }
          },
          "base_uri": "https://localhost:8080/",
          "height": 72
        },
        "id": "NoSuMdksKdhm",
        "outputId": "15527552-d117-4037-ceea-59ec7b5b0a81"
      },
      "source": [
        "from google.colab import files \r\n",
        "\r\n",
        "\r\n",
        "uploaded = files.upload()"
      ],
      "execution_count": 6,
      "outputs": [
        {
          "output_type": "display_data",
          "data": {
            "text/html": [
              "\n",
              "     <input type=\"file\" id=\"files-18066f47-72ac-421b-b6b6-b84830858d49\" name=\"files[]\" multiple disabled\n",
              "        style=\"border:none\" />\n",
              "     <output id=\"result-18066f47-72ac-421b-b6b6-b84830858d49\">\n",
              "      Upload widget is only available when the cell has been executed in the\n",
              "      current browser session. Please rerun this cell to enable.\n",
              "      </output>\n",
              "      <script src=\"/nbextensions/google.colab/files.js\"></script> "
            ],
            "text/plain": [
              "<IPython.core.display.HTML object>"
            ]
          },
          "metadata": {
            "tags": []
          }
        },
        {
          "output_type": "stream",
          "text": [
            "Saving insurance_claims.csv to insurance_claims.csv\n"
          ],
          "name": "stdout"
        }
      ]
    },
    {
      "cell_type": "code",
      "metadata": {
        "colab": {
          "base_uri": "https://localhost:8080/"
        },
        "id": "XYAlEBagKmSW",
        "outputId": "033bfcfa-b35a-403f-f482-6a74db359c89"
      },
      "source": [
        "import io \r\n",
        "\r\n",
        "df = pd.read_csv(io.BytesIO(uploaded['insurance_claims.csv'])) \r\n",
        "print(df)"
      ],
      "execution_count": 7,
      "outputs": [
        {
          "output_type": "stream",
          "text": [
            "     months_as_customer  age  ...  auto_year fraud_reported\n",
            "0                   328   48  ...       2004              Y\n",
            "1                   228   42  ...       2007              Y\n",
            "2                   134   29  ...       2007              N\n",
            "3                   256   41  ...       2014              Y\n",
            "4                   228   44  ...       2009              N\n",
            "..                  ...  ...  ...        ...            ...\n",
            "995                   3   38  ...       2006              N\n",
            "996                 285   41  ...       2015              N\n",
            "997                 130   34  ...       1996              N\n",
            "998                 458   62  ...       1998              N\n",
            "999                 456   60  ...       2007              N\n",
            "\n",
            "[1000 rows x 39 columns]\n"
          ],
          "name": "stdout"
        }
      ]
    },
    {
      "cell_type": "code",
      "metadata": {
        "colab": {
          "base_uri": "https://localhost:8080/"
        },
        "id": "EYsYdMSkK8gc",
        "outputId": "9a7ec5ab-ce4e-4ebe-de48-5b62eace4fa2"
      },
      "source": [
        "df.columns"
      ],
      "execution_count": 8,
      "outputs": [
        {
          "output_type": "execute_result",
          "data": {
            "text/plain": [
              "Index(['months_as_customer', 'age', 'policy_number', 'policy_bind_date',\n",
              "       'policy_state', 'policy_csl', 'policy_deductable',\n",
              "       'policy_annual_premium', 'umbrella_limit', 'insured_zip', 'insured_sex',\n",
              "       'insured_education_level', 'insured_occupation', 'insured_hobbies',\n",
              "       'insured_relationship', 'capital-gains', 'capital-loss',\n",
              "       'incident_date', 'incident_type', 'collision_type', 'incident_severity',\n",
              "       'authorities_contacted', 'incident_state', 'incident_city',\n",
              "       'incident_location', 'incident_hour_of_the_day',\n",
              "       'number_of_vehicles_involved', 'property_damage', 'bodily_injuries',\n",
              "       'witnesses', 'police_report_available', 'total_claim_amount',\n",
              "       'injury_claim', 'property_claim', 'vehicle_claim', 'auto_make',\n",
              "       'auto_model', 'auto_year', 'fraud_reported'],\n",
              "      dtype='object')"
            ]
          },
          "metadata": {
            "tags": []
          },
          "execution_count": 8
        }
      ]
    },
    {
      "cell_type": "code",
      "metadata": {
        "colab": {
          "base_uri": "https://localhost:8080/"
        },
        "id": "yJROSIYqto0q",
        "outputId": "8dea35f4-2a8d-4f5a-f6d7-369ef9f07281"
      },
      "source": [
        "df.isnull().sum()"
      ],
      "execution_count": 9,
      "outputs": [
        {
          "output_type": "execute_result",
          "data": {
            "text/plain": [
              "months_as_customer             0\n",
              "age                            0\n",
              "policy_number                  0\n",
              "policy_bind_date               0\n",
              "policy_state                   0\n",
              "policy_csl                     0\n",
              "policy_deductable              0\n",
              "policy_annual_premium          0\n",
              "umbrella_limit                 0\n",
              "insured_zip                    0\n",
              "insured_sex                    0\n",
              "insured_education_level        0\n",
              "insured_occupation             0\n",
              "insured_hobbies                0\n",
              "insured_relationship           0\n",
              "capital-gains                  0\n",
              "capital-loss                   0\n",
              "incident_date                  0\n",
              "incident_type                  0\n",
              "collision_type                 0\n",
              "incident_severity              0\n",
              "authorities_contacted          0\n",
              "incident_state                 0\n",
              "incident_city                  0\n",
              "incident_location              0\n",
              "incident_hour_of_the_day       0\n",
              "number_of_vehicles_involved    0\n",
              "property_damage                0\n",
              "bodily_injuries                0\n",
              "witnesses                      0\n",
              "police_report_available        0\n",
              "total_claim_amount             0\n",
              "injury_claim                   0\n",
              "property_claim                 0\n",
              "vehicle_claim                  0\n",
              "auto_make                      0\n",
              "auto_model                     0\n",
              "auto_year                      0\n",
              "fraud_reported                 0\n",
              "dtype: int64"
            ]
          },
          "metadata": {
            "tags": []
          },
          "execution_count": 9
        }
      ]
    },
    {
      "cell_type": "markdown",
      "metadata": {
        "id": "UoMgJM9xuBU1"
      },
      "source": [
        "**Our model doesn't contain any missing values.**"
      ]
    },
    {
      "cell_type": "code",
      "metadata": {
        "colab": {
          "base_uri": "https://localhost:8080/"
        },
        "id": "aNh0cTgmwb7d",
        "outputId": "ed18b3bd-327c-4562-8d03-5b02b6bbd824"
      },
      "source": [
        "df.info()"
      ],
      "execution_count": 10,
      "outputs": [
        {
          "output_type": "stream",
          "text": [
            "<class 'pandas.core.frame.DataFrame'>\n",
            "RangeIndex: 1000 entries, 0 to 999\n",
            "Data columns (total 39 columns):\n",
            " #   Column                       Non-Null Count  Dtype  \n",
            "---  ------                       --------------  -----  \n",
            " 0   months_as_customer           1000 non-null   int64  \n",
            " 1   age                          1000 non-null   int64  \n",
            " 2   policy_number                1000 non-null   int64  \n",
            " 3   policy_bind_date             1000 non-null   object \n",
            " 4   policy_state                 1000 non-null   object \n",
            " 5   policy_csl                   1000 non-null   object \n",
            " 6   policy_deductable            1000 non-null   int64  \n",
            " 7   policy_annual_premium        1000 non-null   float64\n",
            " 8   umbrella_limit               1000 non-null   int64  \n",
            " 9   insured_zip                  1000 non-null   int64  \n",
            " 10  insured_sex                  1000 non-null   object \n",
            " 11  insured_education_level      1000 non-null   object \n",
            " 12  insured_occupation           1000 non-null   object \n",
            " 13  insured_hobbies              1000 non-null   object \n",
            " 14  insured_relationship         1000 non-null   object \n",
            " 15  capital-gains                1000 non-null   int64  \n",
            " 16  capital-loss                 1000 non-null   int64  \n",
            " 17  incident_date                1000 non-null   object \n",
            " 18  incident_type                1000 non-null   object \n",
            " 19  collision_type               1000 non-null   object \n",
            " 20  incident_severity            1000 non-null   object \n",
            " 21  authorities_contacted        1000 non-null   object \n",
            " 22  incident_state               1000 non-null   object \n",
            " 23  incident_city                1000 non-null   object \n",
            " 24  incident_location            1000 non-null   object \n",
            " 25  incident_hour_of_the_day     1000 non-null   int64  \n",
            " 26  number_of_vehicles_involved  1000 non-null   int64  \n",
            " 27  property_damage              1000 non-null   object \n",
            " 28  bodily_injuries              1000 non-null   int64  \n",
            " 29  witnesses                    1000 non-null   int64  \n",
            " 30  police_report_available      1000 non-null   object \n",
            " 31  total_claim_amount           1000 non-null   int64  \n",
            " 32  injury_claim                 1000 non-null   int64  \n",
            " 33  property_claim               1000 non-null   int64  \n",
            " 34  vehicle_claim                1000 non-null   int64  \n",
            " 35  auto_make                    1000 non-null   object \n",
            " 36  auto_model                   1000 non-null   object \n",
            " 37  auto_year                    1000 non-null   int64  \n",
            " 38  fraud_reported               1000 non-null   object \n",
            "dtypes: float64(1), int64(17), object(21)\n",
            "memory usage: 304.8+ KB\n"
          ],
          "name": "stdout"
        }
      ]
    },
    {
      "cell_type": "markdown",
      "metadata": {
        "id": "aHKiTyTIVsin"
      },
      "source": [
        "**Data Visualization**"
      ]
    },
    {
      "cell_type": "code",
      "metadata": {
        "colab": {
          "base_uri": "https://localhost:8080/",
          "height": 204
        },
        "id": "-6mpEvLN8jHv",
        "outputId": "1b9e62b1-8db4-4a23-9245-d6a94efb06ce"
      },
      "source": [
        "df_hm = df.loc[:,['age','months_as_customer','total_claim_amount','injury_claim','property_claim','vehicle_claim','incident_severity']]\r\n",
        "df_hm.head()"
      ],
      "execution_count": 11,
      "outputs": [
        {
          "output_type": "execute_result",
          "data": {
            "text/html": [
              "<div>\n",
              "<style scoped>\n",
              "    .dataframe tbody tr th:only-of-type {\n",
              "        vertical-align: middle;\n",
              "    }\n",
              "\n",
              "    .dataframe tbody tr th {\n",
              "        vertical-align: top;\n",
              "    }\n",
              "\n",
              "    .dataframe thead th {\n",
              "        text-align: right;\n",
              "    }\n",
              "</style>\n",
              "<table border=\"1\" class=\"dataframe\">\n",
              "  <thead>\n",
              "    <tr style=\"text-align: right;\">\n",
              "      <th></th>\n",
              "      <th>age</th>\n",
              "      <th>months_as_customer</th>\n",
              "      <th>total_claim_amount</th>\n",
              "      <th>injury_claim</th>\n",
              "      <th>property_claim</th>\n",
              "      <th>vehicle_claim</th>\n",
              "      <th>incident_severity</th>\n",
              "    </tr>\n",
              "  </thead>\n",
              "  <tbody>\n",
              "    <tr>\n",
              "      <th>0</th>\n",
              "      <td>48</td>\n",
              "      <td>328</td>\n",
              "      <td>71610</td>\n",
              "      <td>6510</td>\n",
              "      <td>13020</td>\n",
              "      <td>52080</td>\n",
              "      <td>Major Damage</td>\n",
              "    </tr>\n",
              "    <tr>\n",
              "      <th>1</th>\n",
              "      <td>42</td>\n",
              "      <td>228</td>\n",
              "      <td>5070</td>\n",
              "      <td>780</td>\n",
              "      <td>780</td>\n",
              "      <td>3510</td>\n",
              "      <td>Minor Damage</td>\n",
              "    </tr>\n",
              "    <tr>\n",
              "      <th>2</th>\n",
              "      <td>29</td>\n",
              "      <td>134</td>\n",
              "      <td>34650</td>\n",
              "      <td>7700</td>\n",
              "      <td>3850</td>\n",
              "      <td>23100</td>\n",
              "      <td>Minor Damage</td>\n",
              "    </tr>\n",
              "    <tr>\n",
              "      <th>3</th>\n",
              "      <td>41</td>\n",
              "      <td>256</td>\n",
              "      <td>63400</td>\n",
              "      <td>6340</td>\n",
              "      <td>6340</td>\n",
              "      <td>50720</td>\n",
              "      <td>Major Damage</td>\n",
              "    </tr>\n",
              "    <tr>\n",
              "      <th>4</th>\n",
              "      <td>44</td>\n",
              "      <td>228</td>\n",
              "      <td>6500</td>\n",
              "      <td>1300</td>\n",
              "      <td>650</td>\n",
              "      <td>4550</td>\n",
              "      <td>Minor Damage</td>\n",
              "    </tr>\n",
              "  </tbody>\n",
              "</table>\n",
              "</div>"
            ],
            "text/plain": [
              "   age  months_as_customer  ...  vehicle_claim  incident_severity\n",
              "0   48                 328  ...          52080       Major Damage\n",
              "1   42                 228  ...           3510       Minor Damage\n",
              "2   29                 134  ...          23100       Minor Damage\n",
              "3   41                 256  ...          50720       Major Damage\n",
              "4   44                 228  ...           4550       Minor Damage\n",
              "\n",
              "[5 rows x 7 columns]"
            ]
          },
          "metadata": {
            "tags": []
          },
          "execution_count": 11
        }
      ]
    },
    {
      "cell_type": "code",
      "metadata": {
        "colab": {
          "base_uri": "https://localhost:8080/"
        },
        "id": "3KO2dZLBGUgf",
        "outputId": "c263ef5a-3b38-44f9-91cb-492c9be17685"
      },
      "source": [
        "df_hm['incident_severity'].unique()"
      ],
      "execution_count": 12,
      "outputs": [
        {
          "output_type": "execute_result",
          "data": {
            "text/plain": [
              "array(['Major Damage', 'Minor Damage', 'Total Loss', 'Trivial Damage'],\n",
              "      dtype=object)"
            ]
          },
          "metadata": {
            "tags": []
          },
          "execution_count": 12
        }
      ]
    },
    {
      "cell_type": "code",
      "metadata": {
        "id": "Mgz-RJysC01M"
      },
      "source": [
        "l=[]\r\n",
        "for i in range(len(df_hm['incident_severity'])):\r\n",
        "  if(df_hm['incident_severity'][i]=='Total Loss'):\r\n",
        "    l.append(3)\r\n",
        "  elif(df_hm['incident_severity'][i]=='Major Damage'):\r\n",
        "    l.append(2)\r\n",
        "  elif(df_hm['incident_severity'][i]=='Minor Damage'):\r\n",
        "    l.append(1)\r\n",
        "  else:\r\n",
        "    l.append(0)"
      ],
      "execution_count": 13,
      "outputs": []
    },
    {
      "cell_type": "code",
      "metadata": {
        "colab": {
          "base_uri": "https://localhost:8080/"
        },
        "id": "F_TN5m12C04U",
        "outputId": "65822576-0ff5-409d-c2ac-05f25c5a33d1"
      },
      "source": [
        "l=pd.Series(l)\r\n",
        "l"
      ],
      "execution_count": 14,
      "outputs": [
        {
          "output_type": "execute_result",
          "data": {
            "text/plain": [
              "0      2\n",
              "1      1\n",
              "2      1\n",
              "3      2\n",
              "4      1\n",
              "      ..\n",
              "995    1\n",
              "996    2\n",
              "997    1\n",
              "998    2\n",
              "999    1\n",
              "Length: 1000, dtype: int64"
            ]
          },
          "metadata": {
            "tags": []
          },
          "execution_count": 14
        }
      ]
    },
    {
      "cell_type": "code",
      "metadata": {
        "id": "seYBPwx4C06m"
      },
      "source": [
        "df_hm['incident_severity_enc']=l\r\n",
        "df_hm.drop('encoding', axis=1, inplace=True)\r\n",
        "df_hm.head()"
      ],
      "execution_count": null,
      "outputs": []
    },
    {
      "cell_type": "code",
      "metadata": {
        "colab": {
          "base_uri": "https://localhost:8080/",
          "height": 297
        },
        "id": "m_6WH_a7t-ry",
        "outputId": "47eaaee9-1174-46b1-f5bd-9f1f08385a47"
      },
      "source": [
        "sns.countplot(x=df['fraud_reported'], data=df)"
      ],
      "execution_count": 16,
      "outputs": [
        {
          "output_type": "execute_result",
          "data": {
            "text/plain": [
              "<matplotlib.axes._subplots.AxesSubplot at 0x7fa130ccce10>"
            ]
          },
          "metadata": {
            "tags": []
          },
          "execution_count": 16
        },
        {
          "output_type": "display_data",
          "data": {
            "image/png": "[encoded data removed]",
            "text/plain": [
              "<Figure size 432x288 with 1 Axes>"
            ]
          },
          "metadata": {
            "tags": [],
            "needs_background": "light"
          }
        }
      ]
    },
    {
      "cell_type": "code",
      "metadata": {
        "colab": {
          "base_uri": "https://localhost:8080/",
          "height": 711
        },
        "id": "yr_WzN_4uspx",
        "outputId": "6ee10d06-16e3-4941-a8f0-9d470ca6390a"
      },
      "source": [
        "import matplotlib.pyplot as plt\r\n",
        "plt.figure(figsize=(15,10))\r\n",
        "sns.heatmap(df_hm.corr(),annot=True)"
      ],
      "execution_count": 17,
      "outputs": [
        {
          "output_type": "execute_result",
          "data": {
            "text/plain": [
              "<matplotlib.axes._subplots.AxesSubplot at 0x7fa11fdcb690>"
            ]
          },
          "metadata": {
            "tags": []
          },
          "execution_count": 17
        },
        {
          "output_type": "display_data",
          "data": {
            "image/png": "[encoded data removed]",
            "text/plain": [
              "<Figure size 1080x720 with 2 Axes>"
            ]
          },
          "metadata": {
            "tags": [],
            "needs_background": "light"
          }
        }
      ]
    },
    {
      "cell_type": "markdown",
      "metadata": {
        "id": "l5WfA_sxrGg-"
      },
      "source": [
        "So as we can see from this heatmap, the correlation values are quite interesting. 'Age' & 'months_as_customer' have a high correlation, which indicates that probably drivers buy auto insurance when they own a car and this time measure only increases with age.\r\n",
        "Incident severity and different types of claims have a clear correlation (0.36 to 0.50) which was quite an expected result"
      ]
    },
    {
      "cell_type": "code",
      "metadata": {
        "id": "Bc-BbtV-vpE5",
        "colab": {
          "base_uri": "https://localhost:8080/",
          "height": 400
        },
        "outputId": "6bc6116f-69f5-4b95-92cf-55e30962c992"
      },
      "source": [
        "sns.catplot(y=\"insured_hobbies\", hue=\"fraud_reported\", kind=\"count\",\r\n",
        "            edgecolor=\".6\",data=df)"
      ],
      "execution_count": 18,
      "outputs": [
        {
          "output_type": "execute_result",
          "data": {
            "text/plain": [
              "<seaborn.axisgrid.FacetGrid at 0x7fa1177b6b50>"
            ]
          },
          "metadata": {
            "tags": []
          },
          "execution_count": 18
        },
        {
          "output_type": "display_data",
          "data": {
            "image/png": "[encoded data removed]",
            "text/plain": [
              "<Figure size 442.375x360 with 1 Axes>"
            ]
          },
          "metadata": {
            "tags": [],
            "needs_background": "light"
          }
        }
      ]
    },
    {
      "cell_type": "markdown",
      "metadata": {
        "id": "t9koFU7vOnSI"
      },
      "source": [
        "Little have I suspected that fraud differed across hobbies. It seems like chess players and cross-fitters have higher tendencies of fraud. I stopped to think if the sports develop one to be inclined to fraud or that people with tendencies are drawn to it :')\r\n",
        "\r\n",
        "---\r\n",
        "\r\n"
      ]
    },
    {
      "cell_type": "code",
      "metadata": {
        "colab": {
          "base_uri": "https://localhost:8080/",
          "height": 400
        },
        "id": "G4MfshyIOOQ0",
        "outputId": "611f30d7-d39d-438e-841c-9615d7a33d72"
      },
      "source": [
        "sns.catplot(y=\"incident_severity\", hue=\"fraud_reported\", kind=\"count\",\r\n",
        "            edgecolor=\".6\",data=df)"
      ],
      "execution_count": 19,
      "outputs": [
        {
          "output_type": "execute_result",
          "data": {
            "text/plain": [
              "<seaborn.axisgrid.FacetGrid at 0x7fa11f8fb750>"
            ]
          },
          "metadata": {
            "tags": []
          },
          "execution_count": 19
        },
        {
          "output_type": "display_data",
          "data": {
            "image/png": "[encoded data removed]",
            "text/plain": [
              "<Figure size 442.375x360 with 1 Axes>"
            ]
          },
          "metadata": {
            "tags": [],
            "needs_background": "light"
          }
        }
      ]
    },
    {
      "cell_type": "markdown",
      "metadata": {
        "id": "ovRmnB5ESjUQ"
      },
      "source": [
        "Major incident severity seems to have highest fraud cases that exceed non fraud cases."
      ]
    },
    {
      "cell_type": "code",
      "metadata": {
        "colab": {
          "base_uri": "https://localhost:8080/",
          "height": 401
        },
        "id": "6GhH7GkXSZx_",
        "outputId": "0265b284-d01c-4bc7-d25e-34359b21004b"
      },
      "source": [
        "sns.catplot(y=\"total_claim_amount\", x=\"fraud_reported\", kind=\"violin\",\r\n",
        "            edgecolor=\".6\",data=df)"
      ],
      "execution_count": 20,
      "outputs": [
        {
          "output_type": "execute_result",
          "data": {
            "text/plain": [
              "<seaborn.axisgrid.FacetGrid at 0x7fa117734f50>"
            ]
          },
          "metadata": {
            "tags": []
          },
          "execution_count": 20
        },
        {
          "output_type": "display_data",
          "data": {
            "image/png": "[encoded data removed]",
            "text/plain": [
              "<Figure size 360x360 with 1 Axes>"
            ]
          },
          "metadata": {
            "tags": [],
            "needs_background": "light"
          }
        }
      ]
    },
    {
      "cell_type": "markdown",
      "metadata": {
        "id": "7eDa1N7GV1NB"
      },
      "source": [
        "***Pre-processing***"
      ]
    },
    {
      "cell_type": "code",
      "metadata": {
        "colab": {
          "base_uri": "https://localhost:8080/",
          "height": 292
        },
        "id": "Ca9KxniK5LP8",
        "outputId": "9d53da7f-acec-40cb-a8a3-cf0c6d80c1dd"
      },
      "source": [
        "from sklearn.preprocessing import LabelEncoder\r\n",
        "le = LabelEncoder()\r\n",
        "df['fraud_reported_enc'] = le.fit_transform(df['fraud_reported'])\r\n",
        "df.drop('fraud_reported', axis=1, inplace=True)\r\n",
        "df.head()"
      ],
      "execution_count": 21,
      "outputs": [
        {
          "output_type": "execute_result",
          "data": {
            "text/html": [
              "<div>\n",
              "<style scoped>\n",
              "    .dataframe tbody tr th:only-of-type {\n",
              "        vertical-align: middle;\n",
              "    }\n",
              "\n",
              "    .dataframe tbody tr th {\n",
              "        vertical-align: top;\n",
              "    }\n",
              "\n",
              "    .dataframe thead th {\n",
              "        text-align: right;\n",
              "    }\n",
              "</style>\n",
              "<table border=\"1\" class=\"dataframe\">\n",
              "  <thead>\n",
              "    <tr style=\"text-align: right;\">\n",
              "      <th></th>\n",
              "      <th>months_as_customer</th>\n",
              "      <th>age</th>\n",
              "      <th>policy_number</th>\n",
              "      <th>policy_bind_date</th>\n",
              "      <th>policy_state</th>\n",
              "      <th>policy_csl</th>\n",
              "      <th>policy_deductable</th>\n",
              "      <th>policy_annual_premium</th>\n",
              "      <th>umbrella_limit</th>\n",
              "      <th>insured_zip</th>\n",
              "      <th>insured_sex</th>\n",
              "      <th>insured_education_level</th>\n",
              "      <th>insured_occupation</th>\n",
              "      <th>insured_hobbies</th>\n",
              "      <th>insured_relationship</th>\n",
              "      <th>capital-gains</th>\n",
              "      <th>capital-loss</th>\n",
              "      <th>incident_date</th>\n",
              "      <th>incident_type</th>\n",
              "      <th>collision_type</th>\n",
              "      <th>incident_severity</th>\n",
              "      <th>authorities_contacted</th>\n",
              "      <th>incident_state</th>\n",
              "      <th>incident_city</th>\n",
              "      <th>incident_location</th>\n",
              "      <th>incident_hour_of_the_day</th>\n",
              "      <th>number_of_vehicles_involved</th>\n",
              "      <th>property_damage</th>\n",
              "      <th>bodily_injuries</th>\n",
              "      <th>witnesses</th>\n",
              "      <th>police_report_available</th>\n",
              "      <th>total_claim_amount</th>\n",
              "      <th>injury_claim</th>\n",
              "      <th>property_claim</th>\n",
              "      <th>vehicle_claim</th>\n",
              "      <th>auto_make</th>\n",
              "      <th>auto_model</th>\n",
              "      <th>auto_year</th>\n",
              "      <th>fraud_reported_enc</th>\n",
              "    </tr>\n",
              "  </thead>\n",
              "  <tbody>\n",
              "    <tr>\n",
              "      <th>0</th>\n",
              "      <td>328</td>\n",
              "      <td>48</td>\n",
              "      <td>521585</td>\n",
              "      <td>17-10-2014</td>\n",
              "      <td>OH</td>\n",
              "      <td>250/500</td>\n",
              "      <td>1000</td>\n",
              "      <td>1406.91</td>\n",
              "      <td>0</td>\n",
              "      <td>466132</td>\n",
              "      <td>MALE</td>\n",
              "      <td>MD</td>\n",
              "      <td>craft-repair</td>\n",
              "      <td>sleeping</td>\n",
              "      <td>husband</td>\n",
              "      <td>53300</td>\n",
              "      <td>0</td>\n",
              "      <td>25-01-2015</td>\n",
              "      <td>Single Vehicle Collision</td>\n",
              "      <td>Side Collision</td>\n",
              "      <td>Major Damage</td>\n",
              "      <td>Police</td>\n",
              "      <td>SC</td>\n",
              "      <td>Columbus</td>\n",
              "      <td>9935 4th Drive</td>\n",
              "      <td>5</td>\n",
              "      <td>1</td>\n",
              "      <td>YES</td>\n",
              "      <td>1</td>\n",
              "      <td>2</td>\n",
              "      <td>YES</td>\n",
              "      <td>71610</td>\n",
              "      <td>6510</td>\n",
              "      <td>13020</td>\n",
              "      <td>52080</td>\n",
              "      <td>Saab</td>\n",
              "      <td>92x</td>\n",
              "      <td>2004</td>\n",
              "      <td>1</td>\n",
              "    </tr>\n",
              "    <tr>\n",
              "      <th>1</th>\n",
              "      <td>228</td>\n",
              "      <td>42</td>\n",
              "      <td>342868</td>\n",
              "      <td>27-06-2006</td>\n",
              "      <td>IN</td>\n",
              "      <td>250/500</td>\n",
              "      <td>2000</td>\n",
              "      <td>1197.22</td>\n",
              "      <td>5000000</td>\n",
              "      <td>468176</td>\n",
              "      <td>MALE</td>\n",
              "      <td>MD</td>\n",
              "      <td>machine-op-inspct</td>\n",
              "      <td>reading</td>\n",
              "      <td>other-relative</td>\n",
              "      <td>0</td>\n",
              "      <td>0</td>\n",
              "      <td>21-01-2015</td>\n",
              "      <td>Vehicle Theft</td>\n",
              "      <td>?</td>\n",
              "      <td>Minor Damage</td>\n",
              "      <td>Police</td>\n",
              "      <td>VA</td>\n",
              "      <td>Riverwood</td>\n",
              "      <td>6608 MLK Hwy</td>\n",
              "      <td>8</td>\n",
              "      <td>1</td>\n",
              "      <td>?</td>\n",
              "      <td>0</td>\n",
              "      <td>0</td>\n",
              "      <td>?</td>\n",
              "      <td>5070</td>\n",
              "      <td>780</td>\n",
              "      <td>780</td>\n",
              "      <td>3510</td>\n",
              "      <td>Mercedes</td>\n",
              "      <td>E400</td>\n",
              "      <td>2007</td>\n",
              "      <td>1</td>\n",
              "    </tr>\n",
              "    <tr>\n",
              "      <th>2</th>\n",
              "      <td>134</td>\n",
              "      <td>29</td>\n",
              "      <td>687698</td>\n",
              "      <td>06-09-2000</td>\n",
              "      <td>OH</td>\n",
              "      <td>100/300</td>\n",
              "      <td>2000</td>\n",
              "      <td>1413.14</td>\n",
              "      <td>5000000</td>\n",
              "      <td>430632</td>\n",
              "      <td>FEMALE</td>\n",
              "      <td>PhD</td>\n",
              "      <td>sales</td>\n",
              "      <td>board-games</td>\n",
              "      <td>own-child</td>\n",
              "      <td>35100</td>\n",
              "      <td>0</td>\n",
              "      <td>22-02-2015</td>\n",
              "      <td>Multi-vehicle Collision</td>\n",
              "      <td>Rear Collision</td>\n",
              "      <td>Minor Damage</td>\n",
              "      <td>Police</td>\n",
              "      <td>NY</td>\n",
              "      <td>Columbus</td>\n",
              "      <td>7121 Francis Lane</td>\n",
              "      <td>7</td>\n",
              "      <td>3</td>\n",
              "      <td>NO</td>\n",
              "      <td>2</td>\n",
              "      <td>3</td>\n",
              "      <td>NO</td>\n",
              "      <td>34650</td>\n",
              "      <td>7700</td>\n",
              "      <td>3850</td>\n",
              "      <td>23100</td>\n",
              "      <td>Dodge</td>\n",
              "      <td>RAM</td>\n",
              "      <td>2007</td>\n",
              "      <td>0</td>\n",
              "    </tr>\n",
              "    <tr>\n",
              "      <th>3</th>\n",
              "      <td>256</td>\n",
              "      <td>41</td>\n",
              "      <td>227811</td>\n",
              "      <td>25-05-1990</td>\n",
              "      <td>IL</td>\n",
              "      <td>250/500</td>\n",
              "      <td>2000</td>\n",
              "      <td>1415.74</td>\n",
              "      <td>6000000</td>\n",
              "      <td>608117</td>\n",
              "      <td>FEMALE</td>\n",
              "      <td>PhD</td>\n",
              "      <td>armed-forces</td>\n",
              "      <td>board-games</td>\n",
              "      <td>unmarried</td>\n",
              "      <td>48900</td>\n",
              "      <td>-62400</td>\n",
              "      <td>10-01-2015</td>\n",
              "      <td>Single Vehicle Collision</td>\n",
              "      <td>Front Collision</td>\n",
              "      <td>Major Damage</td>\n",
              "      <td>Police</td>\n",
              "      <td>OH</td>\n",
              "      <td>Arlington</td>\n",
              "      <td>6956 Maple Drive</td>\n",
              "      <td>5</td>\n",
              "      <td>1</td>\n",
              "      <td>?</td>\n",
              "      <td>1</td>\n",
              "      <td>2</td>\n",
              "      <td>NO</td>\n",
              "      <td>63400</td>\n",
              "      <td>6340</td>\n",
              "      <td>6340</td>\n",
              "      <td>50720</td>\n",
              "      <td>Chevrolet</td>\n",
              "      <td>Tahoe</td>\n",
              "      <td>2014</td>\n",
              "      <td>1</td>\n",
              "    </tr>\n",
              "    <tr>\n",
              "      <th>4</th>\n",
              "      <td>228</td>\n",
              "      <td>44</td>\n",
              "      <td>367455</td>\n",
              "      <td>06-06-2014</td>\n",
              "      <td>IL</td>\n",
              "      <td>500/1000</td>\n",
              "      <td>1000</td>\n",
              "      <td>1583.91</td>\n",
              "      <td>6000000</td>\n",
              "      <td>610706</td>\n",
              "      <td>MALE</td>\n",
              "      <td>Associate</td>\n",
              "      <td>sales</td>\n",
              "      <td>board-games</td>\n",
              "      <td>unmarried</td>\n",
              "      <td>66000</td>\n",
              "      <td>-46000</td>\n",
              "      <td>17-02-2015</td>\n",
              "      <td>Vehicle Theft</td>\n",
              "      <td>?</td>\n",
              "      <td>Minor Damage</td>\n",
              "      <td>None</td>\n",
              "      <td>NY</td>\n",
              "      <td>Arlington</td>\n",
              "      <td>3041 3rd Ave</td>\n",
              "      <td>20</td>\n",
              "      <td>1</td>\n",
              "      <td>NO</td>\n",
              "      <td>0</td>\n",
              "      <td>1</td>\n",
              "      <td>NO</td>\n",
              "      <td>6500</td>\n",
              "      <td>1300</td>\n",
              "      <td>650</td>\n",
              "      <td>4550</td>\n",
              "      <td>Accura</td>\n",
              "      <td>RSX</td>\n",
              "      <td>2009</td>\n",
              "      <td>0</td>\n",
              "    </tr>\n",
              "  </tbody>\n",
              "</table>\n",
              "</div>"
            ],
            "text/plain": [
              "   months_as_customer  age  ...  auto_year fraud_reported_enc\n",
              "0                 328   48  ...       2004                  1\n",
              "1                 228   42  ...       2007                  1\n",
              "2                 134   29  ...       2007                  0\n",
              "3                 256   41  ...       2014                  1\n",
              "4                 228   44  ...       2009                  0\n",
              "\n",
              "[5 rows x 39 columns]"
            ]
          },
          "metadata": {
            "tags": []
          },
          "execution_count": 21
        }
      ]
    },
    {
      "cell_type": "code",
      "metadata": {
        "id": "Nq59btZlKP1D"
      },
      "source": [
        "df['police_report_available']=df['police_report_available'].replace({'?':np.nan})\r\n",
        "df['police_report_available']=df['police_report_available'].fillna(method='ffill')"
      ],
      "execution_count": 22,
      "outputs": []
    },
    {
      "cell_type": "code",
      "metadata": {
        "id": "pP0YJhTrPvSl"
      },
      "source": [
        "df['collision_type']=df['collision_type'].replace({'?':np.nan})\r\n",
        "df['collision_type']=df['collision_type'].fillna(method='ffill')"
      ],
      "execution_count": 23,
      "outputs": []
    },
    {
      "cell_type": "code",
      "metadata": {
        "id": "ng4tuymsQYhn"
      },
      "source": [
        "df['property_damage']=df['property_damage'].replace({'?':np.nan})\r\n",
        "df['property_damage']=df['property_damage'].fillna(method='ffill')"
      ],
      "execution_count": 24,
      "outputs": []
    },
    {
      "cell_type": "code",
      "metadata": {
        "colab": {
          "base_uri": "https://localhost:8080/",
          "height": 297
        },
        "id": "yAbkR64kQdyb",
        "outputId": "5998605f-e9de-4fb5-daee-140c8f86c113"
      },
      "source": [
        "sns.countplot(x=df['fraud_reported_enc'],hue='police_report_available',data=df)"
      ],
      "execution_count": 25,
      "outputs": [
        {
          "output_type": "execute_result",
          "data": {
            "text/plain": [
              "<matplotlib.axes._subplots.AxesSubplot at 0x7fa115332110>"
            ]
          },
          "metadata": {
            "tags": []
          },
          "execution_count": 25
        },
        {
          "output_type": "display_data",
          "data": {
            "image/png": "[encoded data removed]",
            "text/plain": [
              "<Figure size 432x288 with 1 Axes>"
            ]
          },
          "metadata": {
            "tags": [],
            "needs_background": "light"
          }
        }
      ]
    },
    {
      "cell_type": "code",
      "metadata": {
        "id": "wrrk9XehQjzk"
      },
      "source": [
        "#lets drop the unnecessary feature. Before that make a copy of df=df2\r\n",
        "df2=df\r\n",
        "df2=df2.drop(['months_as_customer','policy_number','policy_bind_date','policy_csl','auto_year','auto_model','insured_hobbies','insured_zip','incident_date'],axis=1)"
      ],
      "execution_count": 36,
      "outputs": []
    },
    {
      "cell_type": "code",
      "metadata": {
        "colab": {
          "base_uri": "https://localhost:8080/",
          "height": 241
        },
        "id": "Tmj-ISq0TmE6",
        "outputId": "2a768b5a-c138-4948-a2c4-0c38ffe10520"
      },
      "source": [
        "df.head()"
      ],
      "execution_count": 37,
      "outputs": [
        {
          "output_type": "execute_result",
          "data": {
            "text/html": [
              "<div>\n",
              "<style scoped>\n",
              "    .dataframe tbody tr th:only-of-type {\n",
              "        vertical-align: middle;\n",
              "    }\n",
              "\n",
              "    .dataframe tbody tr th {\n",
              "        vertical-align: top;\n",
              "    }\n",
              "\n",
              "    .dataframe thead th {\n",
              "        text-align: right;\n",
              "    }\n",
              "</style>\n",
              "<table border=\"1\" class=\"dataframe\">\n",
              "  <thead>\n",
              "    <tr style=\"text-align: right;\">\n",
              "      <th></th>\n",
              "      <th>months_as_customer</th>\n",
              "      <th>age</th>\n",
              "      <th>policy_number</th>\n",
              "      <th>policy_bind_date</th>\n",
              "      <th>policy_state</th>\n",
              "      <th>policy_csl</th>\n",
              "      <th>policy_deductable</th>\n",
              "      <th>policy_annual_premium</th>\n",
              "      <th>umbrella_limit</th>\n",
              "      <th>insured_zip</th>\n",
              "      <th>insured_sex</th>\n",
              "      <th>insured_education_level</th>\n",
              "      <th>insured_occupation</th>\n",
              "      <th>insured_hobbies</th>\n",
              "      <th>insured_relationship</th>\n",
              "      <th>capital-gains</th>\n",
              "      <th>capital-loss</th>\n",
              "      <th>incident_date</th>\n",
              "      <th>incident_type</th>\n",
              "      <th>collision_type</th>\n",
              "      <th>incident_severity</th>\n",
              "      <th>authorities_contacted</th>\n",
              "      <th>incident_state</th>\n",
              "      <th>incident_city</th>\n",
              "      <th>incident_location</th>\n",
              "      <th>incident_hour_of_the_day</th>\n",
              "      <th>number_of_vehicles_involved</th>\n",
              "      <th>property_damage</th>\n",
              "      <th>bodily_injuries</th>\n",
              "      <th>witnesses</th>\n",
              "      <th>police_report_available</th>\n",
              "      <th>total_claim_amount</th>\n",
              "      <th>injury_claim</th>\n",
              "      <th>property_claim</th>\n",
              "      <th>vehicle_claim</th>\n",
              "      <th>auto_make</th>\n",
              "      <th>auto_model</th>\n",
              "      <th>auto_year</th>\n",
              "      <th>fraud_reported_enc</th>\n",
              "    </tr>\n",
              "  </thead>\n",
              "  <tbody>\n",
              "    <tr>\n",
              "      <th>0</th>\n",
              "      <td>328</td>\n",
              "      <td>48</td>\n",
              "      <td>521585</td>\n",
              "      <td>532</td>\n",
              "      <td>2</td>\n",
              "      <td>1</td>\n",
              "      <td>1000</td>\n",
              "      <td>1406.91</td>\n",
              "      <td>0</td>\n",
              "      <td>466132</td>\n",
              "      <td>1</td>\n",
              "      <td>4</td>\n",
              "      <td>2</td>\n",
              "      <td>17</td>\n",
              "      <td>0</td>\n",
              "      <td>53300</td>\n",
              "      <td>0</td>\n",
              "      <td>49</td>\n",
              "      <td>2</td>\n",
              "      <td>2</td>\n",
              "      <td>0</td>\n",
              "      <td>4</td>\n",
              "      <td>4</td>\n",
              "      <td>1</td>\n",
              "      <td>996</td>\n",
              "      <td>5</td>\n",
              "      <td>1</td>\n",
              "      <td>1</td>\n",
              "      <td>1</td>\n",
              "      <td>2</td>\n",
              "      <td>1</td>\n",
              "      <td>71610</td>\n",
              "      <td>6510</td>\n",
              "      <td>13020</td>\n",
              "      <td>52080</td>\n",
              "      <td>10</td>\n",
              "      <td>1</td>\n",
              "      <td>2004</td>\n",
              "      <td>1</td>\n",
              "    </tr>\n",
              "    <tr>\n",
              "      <th>1</th>\n",
              "      <td>228</td>\n",
              "      <td>42</td>\n",
              "      <td>342868</td>\n",
              "      <td>821</td>\n",
              "      <td>1</td>\n",
              "      <td>1</td>\n",
              "      <td>2000</td>\n",
              "      <td>1197.22</td>\n",
              "      <td>5000000</td>\n",
              "      <td>468176</td>\n",
              "      <td>1</td>\n",
              "      <td>4</td>\n",
              "      <td>6</td>\n",
              "      <td>15</td>\n",
              "      <td>2</td>\n",
              "      <td>0</td>\n",
              "      <td>0</td>\n",
              "      <td>41</td>\n",
              "      <td>3</td>\n",
              "      <td>2</td>\n",
              "      <td>1</td>\n",
              "      <td>4</td>\n",
              "      <td>5</td>\n",
              "      <td>5</td>\n",
              "      <td>628</td>\n",
              "      <td>8</td>\n",
              "      <td>1</td>\n",
              "      <td>1</td>\n",
              "      <td>0</td>\n",
              "      <td>0</td>\n",
              "      <td>1</td>\n",
              "      <td>5070</td>\n",
              "      <td>780</td>\n",
              "      <td>780</td>\n",
              "      <td>3510</td>\n",
              "      <td>8</td>\n",
              "      <td>12</td>\n",
              "      <td>2007</td>\n",
              "      <td>1</td>\n",
              "    </tr>\n",
              "    <tr>\n",
              "      <th>2</th>\n",
              "      <td>134</td>\n",
              "      <td>29</td>\n",
              "      <td>687698</td>\n",
              "      <td>186</td>\n",
              "      <td>2</td>\n",
              "      <td>0</td>\n",
              "      <td>2000</td>\n",
              "      <td>1413.14</td>\n",
              "      <td>5000000</td>\n",
              "      <td>430632</td>\n",
              "      <td>0</td>\n",
              "      <td>6</td>\n",
              "      <td>11</td>\n",
              "      <td>2</td>\n",
              "      <td>3</td>\n",
              "      <td>35100</td>\n",
              "      <td>0</td>\n",
              "      <td>44</td>\n",
              "      <td>0</td>\n",
              "      <td>1</td>\n",
              "      <td>1</td>\n",
              "      <td>4</td>\n",
              "      <td>1</td>\n",
              "      <td>1</td>\n",
              "      <td>685</td>\n",
              "      <td>7</td>\n",
              "      <td>3</td>\n",
              "      <td>0</td>\n",
              "      <td>2</td>\n",
              "      <td>3</td>\n",
              "      <td>0</td>\n",
              "      <td>34650</td>\n",
              "      <td>7700</td>\n",
              "      <td>3850</td>\n",
              "      <td>23100</td>\n",
              "      <td>4</td>\n",
              "      <td>30</td>\n",
              "      <td>2007</td>\n",
              "      <td>0</td>\n",
              "    </tr>\n",
              "    <tr>\n",
              "      <th>3</th>\n",
              "      <td>256</td>\n",
              "      <td>41</td>\n",
              "      <td>227811</td>\n",
              "      <td>766</td>\n",
              "      <td>0</td>\n",
              "      <td>1</td>\n",
              "      <td>2000</td>\n",
              "      <td>1415.74</td>\n",
              "      <td>6000000</td>\n",
              "      <td>608117</td>\n",
              "      <td>0</td>\n",
              "      <td>6</td>\n",
              "      <td>1</td>\n",
              "      <td>2</td>\n",
              "      <td>4</td>\n",
              "      <td>48900</td>\n",
              "      <td>-62400</td>\n",
              "      <td>19</td>\n",
              "      <td>2</td>\n",
              "      <td>0</td>\n",
              "      <td>0</td>\n",
              "      <td>4</td>\n",
              "      <td>2</td>\n",
              "      <td>0</td>\n",
              "      <td>669</td>\n",
              "      <td>5</td>\n",
              "      <td>1</td>\n",
              "      <td>0</td>\n",
              "      <td>1</td>\n",
              "      <td>2</td>\n",
              "      <td>0</td>\n",
              "      <td>63400</td>\n",
              "      <td>6340</td>\n",
              "      <td>6340</td>\n",
              "      <td>50720</td>\n",
              "      <td>3</td>\n",
              "      <td>34</td>\n",
              "      <td>2014</td>\n",
              "      <td>1</td>\n",
              "    </tr>\n",
              "    <tr>\n",
              "      <th>4</th>\n",
              "      <td>228</td>\n",
              "      <td>44</td>\n",
              "      <td>367455</td>\n",
              "      <td>181</td>\n",
              "      <td>0</td>\n",
              "      <td>2</td>\n",
              "      <td>1000</td>\n",
              "      <td>1583.91</td>\n",
              "      <td>6000000</td>\n",
              "      <td>610706</td>\n",
              "      <td>1</td>\n",
              "      <td>0</td>\n",
              "      <td>11</td>\n",
              "      <td>2</td>\n",
              "      <td>4</td>\n",
              "      <td>66000</td>\n",
              "      <td>-46000</td>\n",
              "      <td>34</td>\n",
              "      <td>3</td>\n",
              "      <td>0</td>\n",
              "      <td>1</td>\n",
              "      <td>2</td>\n",
              "      <td>1</td>\n",
              "      <td>0</td>\n",
              "      <td>220</td>\n",
              "      <td>20</td>\n",
              "      <td>1</td>\n",
              "      <td>0</td>\n",
              "      <td>0</td>\n",
              "      <td>1</td>\n",
              "      <td>0</td>\n",
              "      <td>6500</td>\n",
              "      <td>1300</td>\n",
              "      <td>650</td>\n",
              "      <td>4550</td>\n",
              "      <td>0</td>\n",
              "      <td>31</td>\n",
              "      <td>2009</td>\n",
              "      <td>0</td>\n",
              "    </tr>\n",
              "  </tbody>\n",
              "</table>\n",
              "</div>"
            ],
            "text/plain": [
              "   months_as_customer  age  ...  auto_year  fraud_reported_enc\n",
              "0                 328   48  ...       2004                   1\n",
              "1                 228   42  ...       2007                   1\n",
              "2                 134   29  ...       2007                   0\n",
              "3                 256   41  ...       2014                   1\n",
              "4                 228   44  ...       2009                   0\n",
              "\n",
              "[5 rows x 39 columns]"
            ]
          },
          "metadata": {
            "tags": []
          },
          "execution_count": 37
        }
      ]
    },
    {
      "cell_type": "code",
      "metadata": {
        "colab": {
          "base_uri": "https://localhost:8080/"
        },
        "id": "LnIruv79VPkd",
        "outputId": "6fd4ef9f-1e59-435c-fee4-7558bf251ca5"
      },
      "source": [
        "df.shape"
      ],
      "execution_count": 38,
      "outputs": [
        {
          "output_type": "execute_result",
          "data": {
            "text/plain": [
              "(1000, 39)"
            ]
          },
          "metadata": {
            "tags": []
          },
          "execution_count": 38
        }
      ]
    },
    {
      "cell_type": "code",
      "metadata": {
        "colab": {
          "base_uri": "https://localhost:8080/",
          "height": 241
        },
        "id": "RYfhma5IUmsj",
        "outputId": "bef4006c-576c-4e7f-991a-facb0e11337d"
      },
      "source": [
        "df2.head()"
      ],
      "execution_count": 39,
      "outputs": [
        {
          "output_type": "execute_result",
          "data": {
            "text/html": [
              "<div>\n",
              "<style scoped>\n",
              "    .dataframe tbody tr th:only-of-type {\n",
              "        vertical-align: middle;\n",
              "    }\n",
              "\n",
              "    .dataframe tbody tr th {\n",
              "        vertical-align: top;\n",
              "    }\n",
              "\n",
              "    .dataframe thead th {\n",
              "        text-align: right;\n",
              "    }\n",
              "</style>\n",
              "<table border=\"1\" class=\"dataframe\">\n",
              "  <thead>\n",
              "    <tr style=\"text-align: right;\">\n",
              "      <th></th>\n",
              "      <th>age</th>\n",
              "      <th>policy_state</th>\n",
              "      <th>policy_deductable</th>\n",
              "      <th>policy_annual_premium</th>\n",
              "      <th>umbrella_limit</th>\n",
              "      <th>insured_sex</th>\n",
              "      <th>insured_education_level</th>\n",
              "      <th>insured_occupation</th>\n",
              "      <th>insured_relationship</th>\n",
              "      <th>capital-gains</th>\n",
              "      <th>capital-loss</th>\n",
              "      <th>incident_type</th>\n",
              "      <th>collision_type</th>\n",
              "      <th>incident_severity</th>\n",
              "      <th>authorities_contacted</th>\n",
              "      <th>incident_state</th>\n",
              "      <th>incident_city</th>\n",
              "      <th>incident_location</th>\n",
              "      <th>incident_hour_of_the_day</th>\n",
              "      <th>number_of_vehicles_involved</th>\n",
              "      <th>property_damage</th>\n",
              "      <th>bodily_injuries</th>\n",
              "      <th>witnesses</th>\n",
              "      <th>police_report_available</th>\n",
              "      <th>total_claim_amount</th>\n",
              "      <th>injury_claim</th>\n",
              "      <th>property_claim</th>\n",
              "      <th>vehicle_claim</th>\n",
              "      <th>auto_make</th>\n",
              "      <th>fraud_reported_enc</th>\n",
              "    </tr>\n",
              "  </thead>\n",
              "  <tbody>\n",
              "    <tr>\n",
              "      <th>0</th>\n",
              "      <td>48</td>\n",
              "      <td>2</td>\n",
              "      <td>1000</td>\n",
              "      <td>1406.91</td>\n",
              "      <td>0</td>\n",
              "      <td>1</td>\n",
              "      <td>4</td>\n",
              "      <td>2</td>\n",
              "      <td>0</td>\n",
              "      <td>53300</td>\n",
              "      <td>0</td>\n",
              "      <td>2</td>\n",
              "      <td>2</td>\n",
              "      <td>0</td>\n",
              "      <td>4</td>\n",
              "      <td>4</td>\n",
              "      <td>1</td>\n",
              "      <td>996</td>\n",
              "      <td>5</td>\n",
              "      <td>1</td>\n",
              "      <td>1</td>\n",
              "      <td>1</td>\n",
              "      <td>2</td>\n",
              "      <td>1</td>\n",
              "      <td>71610</td>\n",
              "      <td>6510</td>\n",
              "      <td>13020</td>\n",
              "      <td>52080</td>\n",
              "      <td>10</td>\n",
              "      <td>1</td>\n",
              "    </tr>\n",
              "    <tr>\n",
              "      <th>1</th>\n",
              "      <td>42</td>\n",
              "      <td>1</td>\n",
              "      <td>2000</td>\n",
              "      <td>1197.22</td>\n",
              "      <td>5000000</td>\n",
              "      <td>1</td>\n",
              "      <td>4</td>\n",
              "      <td>6</td>\n",
              "      <td>2</td>\n",
              "      <td>0</td>\n",
              "      <td>0</td>\n",
              "      <td>3</td>\n",
              "      <td>2</td>\n",
              "      <td>1</td>\n",
              "      <td>4</td>\n",
              "      <td>5</td>\n",
              "      <td>5</td>\n",
              "      <td>628</td>\n",
              "      <td>8</td>\n",
              "      <td>1</td>\n",
              "      <td>1</td>\n",
              "      <td>0</td>\n",
              "      <td>0</td>\n",
              "      <td>1</td>\n",
              "      <td>5070</td>\n",
              "      <td>780</td>\n",
              "      <td>780</td>\n",
              "      <td>3510</td>\n",
              "      <td>8</td>\n",
              "      <td>1</td>\n",
              "    </tr>\n",
              "    <tr>\n",
              "      <th>2</th>\n",
              "      <td>29</td>\n",
              "      <td>2</td>\n",
              "      <td>2000</td>\n",
              "      <td>1413.14</td>\n",
              "      <td>5000000</td>\n",
              "      <td>0</td>\n",
              "      <td>6</td>\n",
              "      <td>11</td>\n",
              "      <td>3</td>\n",
              "      <td>35100</td>\n",
              "      <td>0</td>\n",
              "      <td>0</td>\n",
              "      <td>1</td>\n",
              "      <td>1</td>\n",
              "      <td>4</td>\n",
              "      <td>1</td>\n",
              "      <td>1</td>\n",
              "      <td>685</td>\n",
              "      <td>7</td>\n",
              "      <td>3</td>\n",
              "      <td>0</td>\n",
              "      <td>2</td>\n",
              "      <td>3</td>\n",
              "      <td>0</td>\n",
              "      <td>34650</td>\n",
              "      <td>7700</td>\n",
              "      <td>3850</td>\n",
              "      <td>23100</td>\n",
              "      <td>4</td>\n",
              "      <td>0</td>\n",
              "    </tr>\n",
              "    <tr>\n",
              "      <th>3</th>\n",
              "      <td>41</td>\n",
              "      <td>0</td>\n",
              "      <td>2000</td>\n",
              "      <td>1415.74</td>\n",
              "      <td>6000000</td>\n",
              "      <td>0</td>\n",
              "      <td>6</td>\n",
              "      <td>1</td>\n",
              "      <td>4</td>\n",
              "      <td>48900</td>\n",
              "      <td>-62400</td>\n",
              "      <td>2</td>\n",
              "      <td>0</td>\n",
              "      <td>0</td>\n",
              "      <td>4</td>\n",
              "      <td>2</td>\n",
              "      <td>0</td>\n",
              "      <td>669</td>\n",
              "      <td>5</td>\n",
              "      <td>1</td>\n",
              "      <td>0</td>\n",
              "      <td>1</td>\n",
              "      <td>2</td>\n",
              "      <td>0</td>\n",
              "      <td>63400</td>\n",
              "      <td>6340</td>\n",
              "      <td>6340</td>\n",
              "      <td>50720</td>\n",
              "      <td>3</td>\n",
              "      <td>1</td>\n",
              "    </tr>\n",
              "    <tr>\n",
              "      <th>4</th>\n",
              "      <td>44</td>\n",
              "      <td>0</td>\n",
              "      <td>1000</td>\n",
              "      <td>1583.91</td>\n",
              "      <td>6000000</td>\n",
              "      <td>1</td>\n",
              "      <td>0</td>\n",
              "      <td>11</td>\n",
              "      <td>4</td>\n",
              "      <td>66000</td>\n",
              "      <td>-46000</td>\n",
              "      <td>3</td>\n",
              "      <td>0</td>\n",
              "      <td>1</td>\n",
              "      <td>2</td>\n",
              "      <td>1</td>\n",
              "      <td>0</td>\n",
              "      <td>220</td>\n",
              "      <td>20</td>\n",
              "      <td>1</td>\n",
              "      <td>0</td>\n",
              "      <td>0</td>\n",
              "      <td>1</td>\n",
              "      <td>0</td>\n",
              "      <td>6500</td>\n",
              "      <td>1300</td>\n",
              "      <td>650</td>\n",
              "      <td>4550</td>\n",
              "      <td>0</td>\n",
              "      <td>0</td>\n",
              "    </tr>\n",
              "  </tbody>\n",
              "</table>\n",
              "</div>"
            ],
            "text/plain": [
              "   age  policy_state  ...  auto_make  fraud_reported_enc\n",
              "0   48             2  ...         10                   1\n",
              "1   42             1  ...          8                   1\n",
              "2   29             2  ...          4                   0\n",
              "3   41             0  ...          3                   1\n",
              "4   44             0  ...          0                   0\n",
              "\n",
              "[5 rows x 30 columns]"
            ]
          },
          "metadata": {
            "tags": []
          },
          "execution_count": 39
        }
      ]
    },
    {
      "cell_type": "code",
      "metadata": {
        "colab": {
          "base_uri": "https://localhost:8080/"
        },
        "id": "DXmW7AklVChe",
        "outputId": "88449b2d-9b3f-497d-9579-4fd1fd1b8126"
      },
      "source": [
        "df2.shape"
      ],
      "execution_count": 40,
      "outputs": [
        {
          "output_type": "execute_result",
          "data": {
            "text/plain": [
              "(1000, 30)"
            ]
          },
          "metadata": {
            "tags": []
          },
          "execution_count": 40
        }
      ]
    },
    {
      "cell_type": "code",
      "metadata": {
        "id": "naMWHubGU9qV"
      },
      "source": [
        "#now deal with the categorical features\r\n",
        "from sklearn.preprocessing import LabelEncoder\r\n",
        "le=LabelEncoder()\r\n",
        "for i in list(df2.columns):\r\n",
        "    if df2[i].dtype=='object':\r\n",
        "        df2[i]=le.fit_transform(df2[i])"
      ],
      "execution_count": 41,
      "outputs": []
    },
    {
      "cell_type": "code",
      "metadata": {
        "colab": {
          "base_uri": "https://localhost:8080/",
          "height": 241
        },
        "id": "snzIH9gcWD_d",
        "outputId": "dc6d2075-013c-49c2-cef7-a8bc2690c921"
      },
      "source": [
        "df2.head()"
      ],
      "execution_count": 42,
      "outputs": [
        {
          "output_type": "execute_result",
          "data": {
            "text/html": [
              "<div>\n",
              "<style scoped>\n",
              "    .dataframe tbody tr th:only-of-type {\n",
              "        vertical-align: middle;\n",
              "    }\n",
              "\n",
              "    .dataframe tbody tr th {\n",
              "        vertical-align: top;\n",
              "    }\n",
              "\n",
              "    .dataframe thead th {\n",
              "        text-align: right;\n",
              "    }\n",
              "</style>\n",
              "<table border=\"1\" class=\"dataframe\">\n",
              "  <thead>\n",
              "    <tr style=\"text-align: right;\">\n",
              "      <th></th>\n",
              "      <th>age</th>\n",
              "      <th>policy_state</th>\n",
              "      <th>policy_deductable</th>\n",
              "      <th>policy_annual_premium</th>\n",
              "      <th>umbrella_limit</th>\n",
              "      <th>insured_sex</th>\n",
              "      <th>insured_education_level</th>\n",
              "      <th>insured_occupation</th>\n",
              "      <th>insured_relationship</th>\n",
              "      <th>capital-gains</th>\n",
              "      <th>capital-loss</th>\n",
              "      <th>incident_type</th>\n",
              "      <th>collision_type</th>\n",
              "      <th>incident_severity</th>\n",
              "      <th>authorities_contacted</th>\n",
              "      <th>incident_state</th>\n",
              "      <th>incident_city</th>\n",
              "      <th>incident_location</th>\n",
              "      <th>incident_hour_of_the_day</th>\n",
              "      <th>number_of_vehicles_involved</th>\n",
              "      <th>property_damage</th>\n",
              "      <th>bodily_injuries</th>\n",
              "      <th>witnesses</th>\n",
              "      <th>police_report_available</th>\n",
              "      <th>total_claim_amount</th>\n",
              "      <th>injury_claim</th>\n",
              "      <th>property_claim</th>\n",
              "      <th>vehicle_claim</th>\n",
              "      <th>auto_make</th>\n",
              "      <th>fraud_reported_enc</th>\n",
              "    </tr>\n",
              "  </thead>\n",
              "  <tbody>\n",
              "    <tr>\n",
              "      <th>0</th>\n",
              "      <td>48</td>\n",
              "      <td>2</td>\n",
              "      <td>1000</td>\n",
              "      <td>1406.91</td>\n",
              "      <td>0</td>\n",
              "      <td>1</td>\n",
              "      <td>4</td>\n",
              "      <td>2</td>\n",
              "      <td>0</td>\n",
              "      <td>53300</td>\n",
              "      <td>0</td>\n",
              "      <td>2</td>\n",
              "      <td>2</td>\n",
              "      <td>0</td>\n",
              "      <td>4</td>\n",
              "      <td>4</td>\n",
              "      <td>1</td>\n",
              "      <td>996</td>\n",
              "      <td>5</td>\n",
              "      <td>1</td>\n",
              "      <td>1</td>\n",
              "      <td>1</td>\n",
              "      <td>2</td>\n",
              "      <td>1</td>\n",
              "      <td>71610</td>\n",
              "      <td>6510</td>\n",
              "      <td>13020</td>\n",
              "      <td>52080</td>\n",
              "      <td>10</td>\n",
              "      <td>1</td>\n",
              "    </tr>\n",
              "    <tr>\n",
              "      <th>1</th>\n",
              "      <td>42</td>\n",
              "      <td>1</td>\n",
              "      <td>2000</td>\n",
              "      <td>1197.22</td>\n",
              "      <td>5000000</td>\n",
              "      <td>1</td>\n",
              "      <td>4</td>\n",
              "      <td>6</td>\n",
              "      <td>2</td>\n",
              "      <td>0</td>\n",
              "      <td>0</td>\n",
              "      <td>3</td>\n",
              "      <td>2</td>\n",
              "      <td>1</td>\n",
              "      <td>4</td>\n",
              "      <td>5</td>\n",
              "      <td>5</td>\n",
              "      <td>628</td>\n",
              "      <td>8</td>\n",
              "      <td>1</td>\n",
              "      <td>1</td>\n",
              "      <td>0</td>\n",
              "      <td>0</td>\n",
              "      <td>1</td>\n",
              "      <td>5070</td>\n",
              "      <td>780</td>\n",
              "      <td>780</td>\n",
              "      <td>3510</td>\n",
              "      <td>8</td>\n",
              "      <td>1</td>\n",
              "    </tr>\n",
              "    <tr>\n",
              "      <th>2</th>\n",
              "      <td>29</td>\n",
              "      <td>2</td>\n",
              "      <td>2000</td>\n",
              "      <td>1413.14</td>\n",
              "      <td>5000000</td>\n",
              "      <td>0</td>\n",
              "      <td>6</td>\n",
              "      <td>11</td>\n",
              "      <td>3</td>\n",
              "      <td>35100</td>\n",
              "      <td>0</td>\n",
              "      <td>0</td>\n",
              "      <td>1</td>\n",
              "      <td>1</td>\n",
              "      <td>4</td>\n",
              "      <td>1</td>\n",
              "      <td>1</td>\n",
              "      <td>685</td>\n",
              "      <td>7</td>\n",
              "      <td>3</td>\n",
              "      <td>0</td>\n",
              "      <td>2</td>\n",
              "      <td>3</td>\n",
              "      <td>0</td>\n",
              "      <td>34650</td>\n",
              "      <td>7700</td>\n",
              "      <td>3850</td>\n",
              "      <td>23100</td>\n",
              "      <td>4</td>\n",
              "      <td>0</td>\n",
              "    </tr>\n",
              "    <tr>\n",
              "      <th>3</th>\n",
              "      <td>41</td>\n",
              "      <td>0</td>\n",
              "      <td>2000</td>\n",
              "      <td>1415.74</td>\n",
              "      <td>6000000</td>\n",
              "      <td>0</td>\n",
              "      <td>6</td>\n",
              "      <td>1</td>\n",
              "      <td>4</td>\n",
              "      <td>48900</td>\n",
              "      <td>-62400</td>\n",
              "      <td>2</td>\n",
              "      <td>0</td>\n",
              "      <td>0</td>\n",
              "      <td>4</td>\n",
              "      <td>2</td>\n",
              "      <td>0</td>\n",
              "      <td>669</td>\n",
              "      <td>5</td>\n",
              "      <td>1</td>\n",
              "      <td>0</td>\n",
              "      <td>1</td>\n",
              "      <td>2</td>\n",
              "      <td>0</td>\n",
              "      <td>63400</td>\n",
              "      <td>6340</td>\n",
              "      <td>6340</td>\n",
              "      <td>50720</td>\n",
              "      <td>3</td>\n",
              "      <td>1</td>\n",
              "    </tr>\n",
              "    <tr>\n",
              "      <th>4</th>\n",
              "      <td>44</td>\n",
              "      <td>0</td>\n",
              "      <td>1000</td>\n",
              "      <td>1583.91</td>\n",
              "      <td>6000000</td>\n",
              "      <td>1</td>\n",
              "      <td>0</td>\n",
              "      <td>11</td>\n",
              "      <td>4</td>\n",
              "      <td>66000</td>\n",
              "      <td>-46000</td>\n",
              "      <td>3</td>\n",
              "      <td>0</td>\n",
              "      <td>1</td>\n",
              "      <td>2</td>\n",
              "      <td>1</td>\n",
              "      <td>0</td>\n",
              "      <td>220</td>\n",
              "      <td>20</td>\n",
              "      <td>1</td>\n",
              "      <td>0</td>\n",
              "      <td>0</td>\n",
              "      <td>1</td>\n",
              "      <td>0</td>\n",
              "      <td>6500</td>\n",
              "      <td>1300</td>\n",
              "      <td>650</td>\n",
              "      <td>4550</td>\n",
              "      <td>0</td>\n",
              "      <td>0</td>\n",
              "    </tr>\n",
              "  </tbody>\n",
              "</table>\n",
              "</div>"
            ],
            "text/plain": [
              "   age  policy_state  ...  auto_make  fraud_reported_enc\n",
              "0   48             2  ...         10                   1\n",
              "1   42             1  ...          8                   1\n",
              "2   29             2  ...          4                   0\n",
              "3   41             0  ...          3                   1\n",
              "4   44             0  ...          0                   0\n",
              "\n",
              "[5 rows x 30 columns]"
            ]
          },
          "metadata": {
            "tags": []
          },
          "execution_count": 42
        }
      ]
    },
    {
      "cell_type": "code",
      "metadata": {
        "id": "WjqbT_-WWF27"
      },
      "source": [
        "y=df2['fraud_reported_enc']\r\n",
        "x=df2.drop(['fraud_reported_enc'],axis=1)"
      ],
      "execution_count": 69,
      "outputs": []
    },
    {
      "cell_type": "code",
      "metadata": {
        "id": "5N9JNMskWUer"
      },
      "source": [
        "from sklearn.model_selection import train_test_split\r\n",
        "X_train,X_test,y_train,y_test=train_test_split(x,y,random_state=0,test_size=0.3)"
      ],
      "execution_count": 70,
      "outputs": []
    },
    {
      "cell_type": "code",
      "metadata": {
        "colab": {
          "base_uri": "https://localhost:8080/"
        },
        "id": "tDOmUc75WdKi",
        "outputId": "d9574d03-9ec0-44f1-bcaa-9c995db6a547"
      },
      "source": [
        "from sklearn.linear_model import LogisticRegression\r\n",
        "from sklearn.metrics import accuracy_score\r\n",
        "from sklearn.preprocessing import StandardScaler\r\n",
        "from imblearn.over_sampling import SMOTE\r\n",
        "from sklearn.ensemble import RandomForestClassifier\r\n",
        "from sklearn.ensemble import GradientBoostingClassifier\r\n",
        "from xgboost import XGBClassifier"
      ],
      "execution_count": 46,
      "outputs": [
        {
          "output_type": "stream",
          "text": [
            "/usr/local/lib/python3.7/dist-packages/sklearn/externals/six.py:31: FutureWarning: The module is deprecated in version 0.21 and will be removed in version 0.23 since we've dropped support for Python 2.7. Please rely on the official version of six (https://pypi.org/project/six/).\n",
            "  \"(https://pypi.org/project/six/).\", FutureWarning)\n",
            "/usr/local/lib/python3.7/dist-packages/sklearn/utils/deprecation.py:144: FutureWarning: The sklearn.neighbors.base module is  deprecated in version 0.22 and will be removed in version 0.24. The corresponding classes / functions should instead be imported from sklearn.neighbors. Anything that cannot be imported from sklearn.neighbors is now part of the private API.\n",
            "  warnings.warn(message, FutureWarning)\n"
          ],
          "name": "stderr"
        }
      ]
    },
    {
      "cell_type": "code",
      "metadata": {
        "colab": {
          "base_uri": "https://localhost:8080/"
        },
        "id": "wyFS1R9ZXMOr",
        "outputId": "e031db12-9111-4a7e-e5ae-aeb699ecf19e"
      },
      "source": [
        "sm = SMOTE(random_state=1)\r\n",
        "x_upsample, y_upsample  = sm.fit_sample(X_train, y_train)\r\n",
        "x_test_upsample, y_test_upsample  = sm.fit_sample(X_test, y_test)\r\n",
        "x,y = sm.fit_sample(X_train, y_train)\r\n",
        "print(x.shape)\r\n",
        "print(x_upsample.shape)\r\n",
        "print(y_upsample.shape)"
      ],
      "execution_count": 121,
      "outputs": [
        {
          "output_type": "stream",
          "text": [
            "(1060, 29)\n",
            "(1060, 29)\n",
            "(1060,)\n"
          ],
          "name": "stdout"
        },
        {
          "output_type": "stream",
          "text": [
            "/usr/local/lib/python3.7/dist-packages/sklearn/utils/deprecation.py:87: FutureWarning: Function safe_indexing is deprecated; safe_indexing is deprecated in version 0.22 and will be removed in version 0.24.\n",
            "  warnings.warn(msg, category=FutureWarning)\n",
            "/usr/local/lib/python3.7/dist-packages/sklearn/utils/deprecation.py:87: FutureWarning: Function safe_indexing is deprecated; safe_indexing is deprecated in version 0.22 and will be removed in version 0.24.\n",
            "  warnings.warn(msg, category=FutureWarning)\n",
            "/usr/local/lib/python3.7/dist-packages/sklearn/utils/deprecation.py:87: FutureWarning: Function safe_indexing is deprecated; safe_indexing is deprecated in version 0.22 and will be removed in version 0.24.\n",
            "  warnings.warn(msg, category=FutureWarning)\n"
          ],
          "name": "stderr"
        }
      ]
    },
    {
      "cell_type": "code",
      "metadata": {
        "colab": {
          "base_uri": "https://localhost:8080/"
        },
        "id": "3Mfe_iFQX_c0",
        "outputId": "84759c74-ff32-4508-838a-640d0d9fb43c"
      },
      "source": [
        "print(\"After SMOTE , counts of label '1' in y_upsample: {}\".format(sum(y_upsample == 1))) \r\n",
        "print(\"After SMOTE , counts of label '0' in y_upsample: {}\".format(sum(y_upsample == 0)))\r\n",
        "print(\"After SMOTE , counts of label '1' in y: {}\".format(sum(y == 1))) \r\n",
        "print(\"After SMOTE , counts of label '0' in y: {}\".format(sum(y == 0)))\r\n",
        "print(\"After SMOTE , counts of label '1' in y_test_upsample: {}\".format(sum(y_test_upsample == 1))) \r\n",
        "print(\"After SMOTE , counts of label '0' in y_test_upsample: {}\".format(sum(y_test_upsample == 0)))"
      ],
      "execution_count": 123,
      "outputs": [
        {
          "output_type": "stream",
          "text": [
            "After SMOTE , counts of label '1' in y_upsample: 530\n",
            "After SMOTE , counts of label '0' in y_upsample: 530\n",
            "After SMOTE , counts of label '1' in y: 530\n",
            "After SMOTE , counts of label '0' in y: 530\n",
            "After SMOTE , counts of label '1' in y_test_upsample: 223\n",
            "After SMOTE , counts of label '0' in y_test_upsample: 223\n"
          ],
          "name": "stdout"
        }
      ]
    },
    {
      "cell_type": "code",
      "metadata": {
        "id": "Lv2BlyYXbsTy"
      },
      "source": [
        "from sklearn.preprocessing import StandardScaler\r\n",
        "sc=StandardScaler()\r\n",
        "x_upsample_scale=sc.fit_transform(x_upsample)\r\n",
        "x_scale = sc.fit_transform(x)"
      ],
      "execution_count": 116,
      "outputs": []
    },
    {
      "cell_type": "markdown",
      "metadata": {
        "id": "Ynq5dldx4nAr"
      },
      "source": [
        "**Random forest classifier**"
      ]
    },
    {
      "cell_type": "code",
      "metadata": {
        "id": "q8ef7ZkPbxgd"
      },
      "source": [
        "from sklearn.ensemble import RandomForestClassifier\r\n",
        "rf=RandomForestClassifier()"
      ],
      "execution_count": 112,
      "outputs": []
    },
    {
      "cell_type": "code",
      "metadata": {
        "id": "QYFVEGsXoPic"
      },
      "source": [
        "#Hyperparamenter tuning\r\n",
        "from sklearn.model_selection import GridSearchCV\r\n",
        "parameters={'criterion':['gini','entropy'], 'max_depth': np.arange(1,30)}"
      ],
      "execution_count": 113,
      "outputs": []
    },
    {
      "cell_type": "code",
      "metadata": {
        "id": "sPeycvFooQk8"
      },
      "source": [
        "grid=GridSearchCV(rf,parameters, cv=10)"
      ],
      "execution_count": 114,
      "outputs": []
    },
    {
      "cell_type": "code",
      "metadata": {
        "colab": {
          "base_uri": "https://localhost:8080/"
        },
        "id": "VtRCFpCSSTEo",
        "outputId": "3bd9b0a6-7c1d-4c49-c71d-0bbbedba6e9c"
      },
      "source": [
        "grid.fit(x_scale, y)"
      ],
      "execution_count": 117,
      "outputs": [
        {
          "output_type": "execute_result",
          "data": {
            "text/plain": [
              "GridSearchCV(cv=10, error_score=nan,\n",
              "             estimator=RandomForestClassifier(bootstrap=True, ccp_alpha=0.0,\n",
              "                                              class_weight=None,\n",
              "                                              criterion='gini', max_depth=None,\n",
              "                                              max_features='auto',\n",
              "                                              max_leaf_nodes=None,\n",
              "                                              max_samples=None,\n",
              "                                              min_impurity_decrease=0.0,\n",
              "                                              min_impurity_split=None,\n",
              "                                              min_samples_leaf=1,\n",
              "                                              min_samples_split=2,\n",
              "                                              min_weight_fraction_leaf=0.0,\n",
              "                                              n_estimators=100, n_jobs=None,\n",
              "                                              oob_score=False,\n",
              "                                              random_state=None, verbose=0,\n",
              "                                              warm_start=False),\n",
              "             iid='deprecated', n_jobs=None,\n",
              "             param_grid={'criterion': ['gini', 'entropy'],\n",
              "                         'max_depth': array([ 1,  2,  3,  4,  5,  6,  7,  8,  9, 10, 11, 12, 13, 14, 15, 16, 17,\n",
              "       18, 19, 20, 21, 22, 23, 24, 25, 26, 27, 28, 29])},\n",
              "             pre_dispatch='2*n_jobs', refit=True, return_train_score=False,\n",
              "             scoring=None, verbose=0)"
            ]
          },
          "metadata": {
            "tags": []
          },
          "execution_count": 117
        }
      ]
    },
    {
      "cell_type": "code",
      "metadata": {
        "colab": {
          "base_uri": "https://localhost:8080/"
        },
        "id": "c23T-LAvocz_",
        "outputId": "09c7d1bb-6ac5-48b1-e3d0-0f1457b4cdb5"
      },
      "source": [
        "grid.best_params_"
      ],
      "execution_count": 118,
      "outputs": [
        {
          "output_type": "execute_result",
          "data": {
            "text/plain": [
              "{'criterion': 'entropy', 'max_depth': 23}"
            ]
          },
          "metadata": {
            "tags": []
          },
          "execution_count": 118
        }
      ]
    },
    {
      "cell_type": "code",
      "metadata": {
        "colab": {
          "base_uri": "https://localhost:8080/"
        },
        "id": "cfJDu8s0ri6t",
        "outputId": "1f5ee9a9-9838-4035-b3b0-3c8e0285d9af"
      },
      "source": [
        "grid.best_score_"
      ],
      "execution_count": 119,
      "outputs": [
        {
          "output_type": "execute_result",
          "data": {
            "text/plain": [
              "0.8783018867924527"
            ]
          },
          "metadata": {
            "tags": []
          },
          "execution_count": 119
        }
      ]
    },
    {
      "cell_type": "markdown",
      "metadata": {
        "id": "p4zPpmNh4rMB"
      },
      "source": [
        "**Logistic regression**"
      ]
    },
    {
      "cell_type": "code",
      "metadata": {
        "colab": {
          "base_uri": "https://localhost:8080/"
        },
        "id": "ycyhIvSnsc8Z",
        "outputId": "1238e27c-6bc3-4b4c-9865-4d9e749d5ad5"
      },
      "source": [
        "from sklearn.linear_model import LogisticRegressionCV\r\n",
        "lr = LogisticRegressionCV(Cs=[1e-1, 0.02, 0.5,1], cv=10)\r\n",
        "lr.fit(x_upsample_scale,y_upsample)"
      ],
      "execution_count": 120,
      "outputs": [
        {
          "output_type": "execute_result",
          "data": {
            "text/plain": [
              "LogisticRegressionCV(Cs=[0.1, 0.02, 0.5, 1], class_weight=None, cv=10,\n",
              "                     dual=False, fit_intercept=True, intercept_scaling=1.0,\n",
              "                     l1_ratios=None, max_iter=100, multi_class='auto',\n",
              "                     n_jobs=None, penalty='l2', random_state=None, refit=True,\n",
              "                     scoring=None, solver='lbfgs', tol=0.0001, verbose=0)"
            ]
          },
          "metadata": {
            "tags": []
          },
          "execution_count": 120
        }
      ]
    },
    {
      "cell_type": "code",
      "metadata": {
        "id": "mpk3F8RpsOWV"
      },
      "source": [
        "y_pred_lr = lr.predict(x_test_upsample)"
      ],
      "execution_count": 124,
      "outputs": []
    },
    {
      "cell_type": "code",
      "metadata": {
        "colab": {
          "base_uri": "https://localhost:8080/"
        },
        "id": "ndeDz4fO7DmG",
        "outputId": "a7b6c266-4af9-4b70-fff8-2d8186a1f384"
      },
      "source": [
        "from sklearn.metrics import accuracy_score\r\n",
        "accuracy_score(y_test_upsample,y_pred_lr)"
      ],
      "execution_count": 127,
      "outputs": [
        {
          "output_type": "execute_result",
          "data": {
            "text/plain": [
              "0.5"
            ]
          },
          "metadata": {
            "tags": []
          },
          "execution_count": 127
        }
      ]
    },
    {
      "cell_type": "markdown",
      "metadata": {
        "id": "3GWopSscADBV"
      },
      "source": [
        "**XGBoost**"
      ]
    },
    {
      "cell_type": "code",
      "metadata": {
        "colab": {
          "base_uri": "https://localhost:8080/"
        },
        "id": "JveDX2L6_crQ",
        "outputId": "06191bc0-34ec-4b03-b533-610e0fe1d3d7"
      },
      "source": [
        "param_test1 = {\r\n",
        " 'max_depth':range(3,10),\r\n",
        " 'min_child_weight':range(1,6)\r\n",
        "}\r\n",
        "gsearch1 = GridSearchCV(estimator = XGBClassifier( learning_rate =0.1, n_estimators=140, max_depth=5,\r\n",
        " min_child_weight=1, gamma=0, subsample=0.8, colsample_bytree=0.8,\r\n",
        " objective= 'binary:logistic', nthread=4, scale_pos_weight=1, seed=27), \r\n",
        " param_grid = param_test1, scoring='roc_auc',n_jobs=4,iid=False, cv=5)\r\n",
        "gsearch1.fit(x_scale,y)\r\n",
        "gsearch1.best_params_, gsearch1.best_score_"
      ],
      "execution_count": 129,
      "outputs": [
        {
          "output_type": "stream",
          "text": [
            "/usr/local/lib/python3.7/dist-packages/sklearn/model_selection/_search.py:823: FutureWarning: The parameter 'iid' is deprecated in 0.22 and will be removed in 0.24.\n",
            "  \"removed in 0.24.\", FutureWarning\n"
          ],
          "name": "stderr"
        },
        {
          "output_type": "execute_result",
          "data": {
            "text/plain": [
              "({'max_depth': 9, 'min_child_weight': 1}, 0.9399786400854397)"
            ]
          },
          "metadata": {
            "tags": []
          },
          "execution_count": 129
        }
      ]
    },
    {
      "cell_type": "code",
      "metadata": {
        "id": "yDjiH4XUNCyM"
      },
      "source": [
        ""
      ],
      "execution_count": null,
      "outputs": []
    }
  ]
}