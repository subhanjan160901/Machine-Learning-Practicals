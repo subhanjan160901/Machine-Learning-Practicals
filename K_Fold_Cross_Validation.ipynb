{
  "nbformat": 4,
  "nbformat_minor": 0,
  "metadata": {
    "colab": {
      "name": "K-Fold-Cross Validation.ipynb",
      "provenance": []
    },
    "kernelspec": {
      "name": "python3",
      "display_name": "Python 3"
    }
  },
  "cells": [
    {
      "cell_type": "code",
      "metadata": {
        "id": "ERwdE62HIp1K"
      },
      "source": [
        "from sklearn.linear_model import LogisticRegression\r\n",
        "from sklearn.tree import DecisionTreeClassifier\r\n",
        "from sklearn.ensemble import RandomForestClassifier\r\n",
        "import numpy as np\r\n",
        "from sklearn.datasets import load_digits\r\n",
        "import matplotlib.pyplot as plt\r\n",
        "digits = load_digits()"
      ],
      "execution_count": 2,
      "outputs": []
    },
    {
      "cell_type": "code",
      "metadata": {
        "id": "trD5HqRfJFjv"
      },
      "source": [
        "from sklearn.model_selection import train_test_split\r\n",
        "X_train, X_test, y_train, y_test = train_test_split(digits.data,digits.target,test_size=0.4, random_state=1)"
      ],
      "execution_count": 21,
      "outputs": []
    },
    {
      "cell_type": "markdown",
      "metadata": {
        "id": "mxxsMrAoJUY-"
      },
      "source": [
        "Logistic Regression"
      ]
    },
    {
      "cell_type": "code",
      "metadata": {
        "colab": {
          "base_uri": "https://localhost:8080/"
        },
        "id": "Uf6UO-ZPJRxe",
        "outputId": "973341e2-d140-4929-b834-831b70e2c26c"
      },
      "source": [
        "lr = LogisticRegression(solver='liblinear',multi_class='ovr')\r\n",
        "lr.fit(X_train, y_train)\r\n",
        "lr.score(X_test, y_test)"
      ],
      "execution_count": 22,
      "outputs": [
        {
          "output_type": "execute_result",
          "data": {
            "text/plain": [
              "0.9568845618915159"
            ]
          },
          "metadata": {
            "tags": []
          },
          "execution_count": 22
        }
      ]
    },
    {
      "cell_type": "markdown",
      "metadata": {
        "id": "xydUjjTxJxPG"
      },
      "source": [
        "Decision Tree Classifier"
      ]
    },
    {
      "cell_type": "code",
      "metadata": {
        "colab": {
          "base_uri": "https://localhost:8080/"
        },
        "id": "a-sgsYPXJarO",
        "outputId": "ef19da90-c0cf-42db-8956-0163b4a3ab57"
      },
      "source": [
        "dt = DecisionTreeClassifier()\r\n",
        "dt.fit(X_train,y_train)\r\n",
        "dt.score(X_test,y_test)"
      ],
      "execution_count": 23,
      "outputs": [
        {
          "output_type": "execute_result",
          "data": {
            "text/plain": [
              "0.8414464534075105"
            ]
          },
          "metadata": {
            "tags": []
          },
          "execution_count": 23
        }
      ]
    },
    {
      "cell_type": "markdown",
      "metadata": {
        "id": "02ipPpNsKL2P"
      },
      "source": [
        "Random Forest"
      ]
    },
    {
      "cell_type": "code",
      "metadata": {
        "colab": {
          "base_uri": "https://localhost:8080/"
        },
        "id": "x_zsQxmaKJw0",
        "outputId": "013b5273-6537-4e13-d9ae-23234c6e6bb0"
      },
      "source": [
        "rf = RandomForestClassifier(n_estimators=40)\r\n",
        "rf.fit(X_train, y_train)\r\n",
        "rf.score(X_test, y_test)"
      ],
      "execution_count": 24,
      "outputs": [
        {
          "output_type": "execute_result",
          "data": {
            "text/plain": [
              "0.9680111265646731"
            ]
          },
          "metadata": {
            "tags": []
          },
          "execution_count": 24
        }
      ]
    },
    {
      "cell_type": "markdown",
      "metadata": {
        "id": "C1_qC_WbKZQG"
      },
      "source": [
        "## K-Fold-Cross Validation"
      ]
    },
    {
      "cell_type": "code",
      "metadata": {
        "colab": {
          "base_uri": "https://localhost:8080/"
        },
        "id": "16ASWKFnKVws",
        "outputId": "7648f26e-2dc8-448f-f624-cd9536a25225"
      },
      "source": [
        "from sklearn.model_selection import KFold\r\n",
        "kf = KFold(n_splits=4)\r\n",
        "kf"
      ],
      "execution_count": 31,
      "outputs": [
        {
          "output_type": "execute_result",
          "data": {
            "text/plain": [
              "KFold(n_splits=4, random_state=None, shuffle=False)"
            ]
          },
          "metadata": {
            "tags": []
          },
          "execution_count": 31
        }
      ]
    },
    {
      "cell_type": "code",
      "metadata": {
        "colab": {
          "base_uri": "https://localhost:8080/"
        },
        "id": "57nW9qvZKjoX",
        "outputId": "8258c28c-5068-45e4-b312-5a48b1fce8cc"
      },
      "source": [
        "for train_index, test_index in kf.split([1,2,3,4,5,6,7,8]):\r\n",
        "    print(train_index, test_index)"
      ],
      "execution_count": 32,
      "outputs": [
        {
          "output_type": "stream",
          "text": [
            "[2 3 4 5 6 7] [0 1]\n",
            "[0 1 4 5 6 7] [2 3]\n",
            "[0 1 2 3 6 7] [4 5]\n",
            "[0 1 2 3 4 5] [6 7]\n"
          ],
          "name": "stdout"
        }
      ]
    },
    {
      "cell_type": "markdown",
      "metadata": {
        "id": "8xYQiX4iKrUv"
      },
      "source": [
        "**Use KFold for our original problem**"
      ]
    },
    {
      "cell_type": "code",
      "metadata": {
        "id": "cfUiIgiiKnEF"
      },
      "source": [
        "def get_score(model, X_train, X_test, y_train, y_test):\r\n",
        "    model.fit(X_train, y_train)\r\n",
        "    return model.score(X_test, y_test)"
      ],
      "execution_count": 33,
      "outputs": []
    },
    {
      "cell_type": "code",
      "metadata": {
        "id": "ZxDKmW3tK0Cw"
      },
      "source": [
        "from sklearn.model_selection import StratifiedKFold\r\n",
        "folds = StratifiedKFold(n_splits=4)\r\n",
        "\r\n",
        "scores_logistic = []\r\n",
        "scores_dt = []\r\n",
        "scores_rf = []\r\n",
        "\r\n",
        "for train_index, test_index in folds.split(digits.data,digits.target):\r\n",
        "    X_train, X_test, y_train, y_test = digits.data[train_index], digits.data[test_index], \\\r\n",
        "                                       digits.target[train_index], digits.target[test_index]\r\n",
        "    scores_logistic.append(get_score(LogisticRegression(solver='liblinear',multi_class='ovr'), X_train, X_test, y_train, y_test))  \r\n",
        "    scores_dt.append(get_score(DecisionTreeClassifier(), X_train, X_test, y_train, y_test))\r\n",
        "    scores_rf.append(get_score(RandomForestClassifier(n_estimators=40), X_train, X_test, y_train, y_test))"
      ],
      "execution_count": 38,
      "outputs": []
    },
    {
      "cell_type": "code",
      "metadata": {
        "colab": {
          "base_uri": "https://localhost:8080/"
        },
        "id": "_GsQTWKpK4nW",
        "outputId": "476af7b6-bfb4-496d-ccb4-8ecdb7e31869"
      },
      "source": [
        "scores_logistic"
      ],
      "execution_count": 39,
      "outputs": [
        {
          "output_type": "execute_result",
          "data": {
            "text/plain": [
              "[0.9377777777777778, 0.910913140311804, 0.9576837416481069, 0.9042316258351893]"
            ]
          },
          "metadata": {
            "tags": []
          },
          "execution_count": 39
        }
      ]
    },
    {
      "cell_type": "code",
      "metadata": {
        "colab": {
          "base_uri": "https://localhost:8080/"
        },
        "id": "K96rJKxMLZt7",
        "outputId": "c9c931ea-2af5-4892-e731-925eb9dde494"
      },
      "source": [
        "scores_dt"
      ],
      "execution_count": 40,
      "outputs": [
        {
          "output_type": "execute_result",
          "data": {
            "text/plain": [
              "[0.7888888888888889,\n",
              " 0.7371937639198218,\n",
              " 0.8396436525612472,\n",
              " 0.7505567928730512]"
            ]
          },
          "metadata": {
            "tags": []
          },
          "execution_count": 40
        }
      ]
    },
    {
      "cell_type": "code",
      "metadata": {
        "colab": {
          "base_uri": "https://localhost:8080/"
        },
        "id": "7JSkueNOLfCw",
        "outputId": "4cea08cb-183f-4f52-d7fd-cd21ccfded0c"
      },
      "source": [
        "scores_rf"
      ],
      "execution_count": 41,
      "outputs": [
        {
          "output_type": "execute_result",
          "data": {
            "text/plain": [
              "[0.9288888888888889,\n",
              " 0.9131403118040089,\n",
              " 0.9665924276169265,\n",
              " 0.9398663697104677]"
            ]
          },
          "metadata": {
            "tags": []
          },
          "execution_count": 41
        }
      ]
    },
    {
      "cell_type": "markdown",
      "metadata": {
        "id": "Q3ql3ExOVwOe"
      },
      "source": [
        "Observe that one of the values in each of the list is very near or almost equal to the accuracy that we got from the \"train_test_split\" with a test size=0.4; the reason being that when 4-Fold validation is done, it basically splits the entire dataset into four parts and the model trains and tests on the 4 permutations of the dataset (divided into 3 parts for training & 1 part for testing). Hence, one of the permutations is ought to be **similar** to the one from \"train_test_split\"."
      ]
    },
    {
      "cell_type": "markdown",
      "metadata": {
        "id": "hcKObBm_aFcl"
      },
      "source": [
        "## cross_val_score function"
      ]
    },
    {
      "cell_type": "code",
      "metadata": {
        "id": "i6-65ZseLoYi"
      },
      "source": [
        "from sklearn.model_selection import cross_val_score"
      ],
      "execution_count": 42,
      "outputs": []
    },
    {
      "cell_type": "markdown",
      "metadata": {
        "id": "X_LU7zmqaOM8"
      },
      "source": [
        "Logistic regression model performance using cross_val_score"
      ]
    },
    {
      "cell_type": "code",
      "metadata": {
        "colab": {
          "base_uri": "https://localhost:8080/"
        },
        "id": "gyOxIpolaNMZ",
        "outputId": "6a1ee517-a0c2-471d-8c83-8561a97648ef"
      },
      "source": [
        "cross_val_score(LogisticRegression(solver='liblinear',multi_class='ovr'), digits.data, digits.target,cv=4)"
      ],
      "execution_count": 44,
      "outputs": [
        {
          "output_type": "execute_result",
          "data": {
            "text/plain": [
              "array([0.93777778, 0.91091314, 0.95768374, 0.90423163])"
            ]
          },
          "metadata": {
            "tags": []
          },
          "execution_count": 44
        }
      ]
    },
    {
      "cell_type": "markdown",
      "metadata": {
        "id": "bsejQ4Flbdgk"
      },
      "source": [
        "**decision tree model performance using cross_val_score**"
      ]
    },
    {
      "cell_type": "code",
      "metadata": {
        "colab": {
          "base_uri": "https://localhost:8080/"
        },
        "id": "6yN-cAGBafbc",
        "outputId": "d2d5558d-2e07-4c98-98b1-25ad25f0651a"
      },
      "source": [
        "cross_val_score(DecisionTreeClassifier(), digits.data, digits.target,cv=4)"
      ],
      "execution_count": 47,
      "outputs": [
        {
          "output_type": "execute_result",
          "data": {
            "text/plain": [
              "array([0.80222222, 0.74164811, 0.84187082, 0.77282851])"
            ]
          },
          "metadata": {
            "tags": []
          },
          "execution_count": 47
        }
      ]
    },
    {
      "cell_type": "markdown",
      "metadata": {
        "id": "STkEOfpEb1S0"
      },
      "source": [
        "**random forest performance using cross_val_score**"
      ]
    },
    {
      "cell_type": "code",
      "metadata": {
        "colab": {
          "base_uri": "https://localhost:8080/"
        },
        "id": "Dwt43UXxbynb",
        "outputId": "e2927f11-e417-4fec-c89d-fbc55595067e"
      },
      "source": [
        "cross_val_score(RandomForestClassifier(n_estimators=40),digits.data, digits.target,cv=4)"
      ],
      "execution_count": 48,
      "outputs": [
        {
          "output_type": "execute_result",
          "data": {
            "text/plain": [
              "array([0.93555556, 0.91759465, 0.96213808, 0.92650334])"
            ]
          },
          "metadata": {
            "tags": []
          },
          "execution_count": 48
        }
      ]
    },
    {
      "cell_type": "markdown",
      "metadata": {
        "id": "k6QqlOOOcFN9"
      },
      "source": [
        "cross_val_score uses stratifield kfold by default"
      ]
    },
    {
      "cell_type": "markdown",
      "metadata": {
        "id": "E3TNBtqmcKGP"
      },
      "source": [
        "## Parameter tunning using k fold cross validation"
      ]
    },
    {
      "cell_type": "code",
      "metadata": {
        "colab": {
          "base_uri": "https://localhost:8080/"
        },
        "id": "m343S7RNb-Yr",
        "outputId": "550a7d8d-eacb-43b0-a4b2-5909aa42a3ec"
      },
      "source": [
        "scores1 = cross_val_score(RandomForestClassifier(n_estimators=5),digits.data, digits.target, cv=10)\r\n",
        "np.average(scores1)"
      ],
      "execution_count": 49,
      "outputs": [
        {
          "output_type": "execute_result",
          "data": {
            "text/plain": [
              "0.8803476101800124"
            ]
          },
          "metadata": {
            "tags": []
          },
          "execution_count": 49
        }
      ]
    },
    {
      "cell_type": "code",
      "metadata": {
        "colab": {
          "base_uri": "https://localhost:8080/"
        },
        "id": "nYHVam3vcPuq",
        "outputId": "f8a4cf0c-c8ba-4580-e2dc-488e94fa22ed"
      },
      "source": [
        "scores2 = cross_val_score(RandomForestClassifier(n_estimators=20),digits.data, digits.target, cv=10)\r\n",
        "np.average(scores2)"
      ],
      "execution_count": 50,
      "outputs": [
        {
          "output_type": "execute_result",
          "data": {
            "text/plain": [
              "0.9359993792675356"
            ]
          },
          "metadata": {
            "tags": []
          },
          "execution_count": 50
        }
      ]
    },
    {
      "cell_type": "code",
      "metadata": {
        "colab": {
          "base_uri": "https://localhost:8080/"
        },
        "id": "alj6zzxUcSZ9",
        "outputId": "119e3d34-d13b-4b11-a59d-836ab3cd800d"
      },
      "source": [
        "scores3 = cross_val_score(RandomForestClassifier(n_estimators=30),digits.data, digits.target, cv=10)\r\n",
        "np.average(scores3)"
      ],
      "execution_count": 51,
      "outputs": [
        {
          "output_type": "execute_result",
          "data": {
            "text/plain": [
              "0.9421198013656114"
            ]
          },
          "metadata": {
            "tags": []
          },
          "execution_count": 51
        }
      ]
    },
    {
      "cell_type": "code",
      "metadata": {
        "colab": {
          "base_uri": "https://localhost:8080/"
        },
        "id": "zbzEGcVAcVch",
        "outputId": "feaf4644-20ff-4e14-b554-cddc2e89dd57"
      },
      "source": [
        "scores4 = cross_val_score(RandomForestClassifier(n_estimators=40),digits.data, digits.target, cv=10)\r\n",
        "np.average(scores4)"
      ],
      "execution_count": 52,
      "outputs": [
        {
          "output_type": "execute_result",
          "data": {
            "text/plain": [
              "0.9404624456859093"
            ]
          },
          "metadata": {
            "tags": []
          },
          "execution_count": 52
        }
      ]
    },
    {
      "cell_type": "code",
      "metadata": {
        "id": "hMDUyRnCcZk9"
      },
      "source": [
        ""
      ],
      "execution_count": null,
      "outputs": []
    }
  ]
}